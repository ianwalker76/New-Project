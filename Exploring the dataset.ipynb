{
 "cells": [
  {
   "cell_type": "code",
   "execution_count": 1,
   "metadata": {},
   "outputs": [],
   "source": [
    "import pandas as pd\n",
    "import numpy as np"
   ]
  },
  {
   "cell_type": "code",
   "execution_count": 10,
   "metadata": {},
   "outputs": [],
   "source": [
    "df = pd.read_csv('halfhourly_dataset/block_1.csv')"
   ]
  },
  {
   "cell_type": "code",
   "execution_count": 12,
   "metadata": {},
   "outputs": [
    {
     "data": {
      "text/plain": [
       "(1515865, 3)"
      ]
     },
     "execution_count": 12,
     "metadata": {},
     "output_type": "execute_result"
    }
   ],
   "source": [
    "df.shape\n"
   ]
  },
  {
   "cell_type": "code",
   "execution_count": 53,
   "metadata": {},
   "outputs": [
    {
     "ename": "NameError",
     "evalue": "name 'df' is not defined",
     "output_type": "error",
     "traceback": [
      "\u001b[1;31m---------------------------------------------------------------------------\u001b[0m",
      "\u001b[1;31mNameError\u001b[0m                                 Traceback (most recent call last)",
      "\u001b[1;32m<ipython-input-53-c42a15b2c7cf>\u001b[0m in \u001b[0;36m<module>\u001b[1;34m\u001b[0m\n\u001b[1;32m----> 1\u001b[1;33m \u001b[0mdf\u001b[0m\u001b[1;33m.\u001b[0m\u001b[0mhead\u001b[0m\u001b[1;33m(\u001b[0m\u001b[1;33m)\u001b[0m\u001b[1;33m\u001b[0m\u001b[1;33m\u001b[0m\u001b[0m\n\u001b[0m",
      "\u001b[1;31mNameError\u001b[0m: name 'df' is not defined"
     ]
    }
   ],
   "source": [
    "df.head()"
   ]
  },
  {
   "cell_type": "code",
   "execution_count": 14,
   "metadata": {},
   "outputs": [
    {
     "ename": "AttributeError",
     "evalue": "'str' object has no attribute 'day_name'",
     "output_type": "error",
     "traceback": [
      "\u001b[1;31m---------------------------------------------------------------------------\u001b[0m",
      "\u001b[1;31mAttributeError\u001b[0m                            Traceback (most recent call last)",
      "\u001b[1;32m<ipython-input-14-a7a67692d40f>\u001b[0m in \u001b[0;36m<module>\u001b[1;34m\u001b[0m\n\u001b[1;32m----> 1\u001b[1;33m \u001b[0mdf\u001b[0m\u001b[1;33m.\u001b[0m\u001b[0mloc\u001b[0m\u001b[1;33m[\u001b[0m\u001b[1;36m0\u001b[0m\u001b[1;33m,\u001b[0m \u001b[1;34m'LCLid'\u001b[0m\u001b[1;33m]\u001b[0m\u001b[1;33m.\u001b[0m\u001b[0mday_name\u001b[0m\u001b[1;33m(\u001b[0m\u001b[1;33m)\u001b[0m\u001b[1;33m\u001b[0m\u001b[1;33m\u001b[0m\u001b[0m\n\u001b[0m",
      "\u001b[1;31mAttributeError\u001b[0m: 'str' object has no attribute 'day_name'"
     ]
    }
   ],
   "source": [
    "df.loc[0, 'LCLid'].day_name()"
   ]
  },
  {
   "cell_type": "code",
   "execution_count": 15,
   "metadata": {},
   "outputs": [
    {
     "data": {
      "text/plain": [
       "'2011-12-21 09:30:00.0000000'"
      ]
     },
     "execution_count": 15,
     "metadata": {},
     "output_type": "execute_result"
    }
   ],
   "source": [
    "df['tstp'].min()"
   ]
  },
  {
   "cell_type": "code",
   "execution_count": 16,
   "metadata": {},
   "outputs": [
    {
     "data": {
      "text/plain": [
       "'2014-02-28 00:00:00.0000000'"
      ]
     },
     "execution_count": 16,
     "metadata": {},
     "output_type": "execute_result"
    }
   ],
   "source": [
    "df['tstp'].max()"
   ]
  },
  {
   "cell_type": "code",
   "execution_count": 66,
   "metadata": {},
   "outputs": [],
   "source": [
    "df['tstp'] = pd.to_datetime(df['tstp'])"
   ]
  },
  {
   "cell_type": "code",
   "execution_count": 34,
   "metadata": {},
   "outputs": [
    {
     "data": {
      "text/plain": [
       "dtype('O')"
      ]
     },
     "execution_count": 34,
     "metadata": {},
     "output_type": "execute_result"
    }
   ],
   "source": [
    "df['energy(kWh/hh)'].dtype"
   ]
  },
  {
   "cell_type": "code",
   "execution_count": 67,
   "metadata": {},
   "outputs": [
    {
     "data": {
      "text/plain": [
       "LCLid             0\n",
       "tstp              0\n",
       "energy(kWh/hh)    0\n",
       "dtype: int64"
      ]
     },
     "execution_count": 67,
     "metadata": {},
     "output_type": "execute_result"
    }
   ],
   "source": [
    "df.loc[df['energy(kWh/hh)'] == 'Null'].count()"
   ]
  },
  {
   "cell_type": "code",
   "execution_count": 121,
   "metadata": {},
   "outputs": [
    {
     "data": {
      "text/plain": [
       "array(['MAC000323', 0, 'MAC000379', 'MAC000386', 'MAC000535', 'MAC000557',\n",
       "       'MAC000569', 'MAC000713', 'MAC000768', 'MAC000778', 'MAC000816',\n",
       "       'MAC000850', 'MAC000886', 'MAC000902', 'MAC000948', 'MAC000974',\n",
       "       'MAC001145', 'MAC001239', 'MAC001251', 'MAC001271', 'MAC001510',\n",
       "       'MAC001528', 'MAC001533', 'MAC001628', 'MAC001689', 'MAC001710',\n",
       "       'MAC001734', 'MAC001776', 'MAC001843', 'MAC001893', 'MAC001989',\n",
       "       'MAC002025', 'MAC002068', 'MAC002150', 'MAC002249', 'MAC002314',\n",
       "       'MAC002562', 'MAC002563', 'MAC002601', 'MAC002613', 'MAC002628',\n",
       "       'MAC002813', 'MAC002924', 'MAC002937', 'MAC003072', 'MAC003110',\n",
       "       'MAC003166', 'MAC003182', 'MAC003212', 'MAC003840', 'MAC004529'],\n",
       "      dtype=object)"
      ]
     },
     "execution_count": 121,
     "metadata": {},
     "output_type": "execute_result"
    }
   ],
   "source": [
    "df['LCLid'].unique()"
   ]
  },
  {
   "cell_type": "code",
   "execution_count": 38,
   "metadata": {},
   "outputs": [
    {
     "data": {
      "text/html": [
       "<div>\n",
       "<style scoped>\n",
       "    .dataframe tbody tr th:only-of-type {\n",
       "        vertical-align: middle;\n",
       "    }\n",
       "\n",
       "    .dataframe tbody tr th {\n",
       "        vertical-align: top;\n",
       "    }\n",
       "\n",
       "    .dataframe thead th {\n",
       "        text-align: right;\n",
       "    }\n",
       "</style>\n",
       "<table border=\"1\" class=\"dataframe\">\n",
       "  <thead>\n",
       "    <tr style=\"text-align: right;\">\n",
       "      <th></th>\n",
       "      <th>LCLid</th>\n",
       "      <th>tstp</th>\n",
       "      <th>energy(kWh/hh)</th>\n",
       "    </tr>\n",
       "  </thead>\n",
       "  <tbody>\n",
       "    <tr>\n",
       "      <th>0</th>\n",
       "      <td>MAC000323</td>\n",
       "      <td>2012-03-06 14:00:00.0000000</td>\n",
       "      <td>0.488</td>\n",
       "    </tr>\n",
       "    <tr>\n",
       "      <th>1</th>\n",
       "      <td>MAC000323</td>\n",
       "      <td>2012-03-06 14:30:00.0000000</td>\n",
       "      <td>0.449</td>\n",
       "    </tr>\n",
       "    <tr>\n",
       "      <th>2</th>\n",
       "      <td>MAC000323</td>\n",
       "      <td>2012-03-06 15:00:00.0000000</td>\n",
       "      <td>0.424</td>\n",
       "    </tr>\n",
       "    <tr>\n",
       "      <th>3</th>\n",
       "      <td>MAC000323</td>\n",
       "      <td>2012-03-06 15:30:00.0000000</td>\n",
       "      <td>0.439</td>\n",
       "    </tr>\n",
       "    <tr>\n",
       "      <th>4</th>\n",
       "      <td>MAC000323</td>\n",
       "      <td>2012-03-06 16:00:00.0000000</td>\n",
       "      <td>0.291</td>\n",
       "    </tr>\n",
       "    <tr>\n",
       "      <th>5</th>\n",
       "      <td>MAC000323</td>\n",
       "      <td>2012-03-06 16:30:00.0000000</td>\n",
       "      <td>0.262</td>\n",
       "    </tr>\n",
       "    <tr>\n",
       "      <th>6</th>\n",
       "      <td>MAC000323</td>\n",
       "      <td>2012-03-06 17:00:00.0000000</td>\n",
       "      <td>0.308</td>\n",
       "    </tr>\n",
       "    <tr>\n",
       "      <th>7</th>\n",
       "      <td>MAC000323</td>\n",
       "      <td>2012-03-06 17:30:00.0000000</td>\n",
       "      <td>0.138</td>\n",
       "    </tr>\n",
       "    <tr>\n",
       "      <th>8</th>\n",
       "      <td>MAC000323</td>\n",
       "      <td>2012-03-06 18:00:00.0000000</td>\n",
       "      <td>0.404</td>\n",
       "    </tr>\n",
       "    <tr>\n",
       "      <th>9</th>\n",
       "      <td>MAC000323</td>\n",
       "      <td>2012-03-06 18:30:00.0000000</td>\n",
       "      <td>0.714</td>\n",
       "    </tr>\n",
       "    <tr>\n",
       "      <th>10</th>\n",
       "      <td>MAC000323</td>\n",
       "      <td>2012-03-06 19:00:00.0000000</td>\n",
       "      <td>0.69</td>\n",
       "    </tr>\n",
       "    <tr>\n",
       "      <th>11</th>\n",
       "      <td>MAC000323</td>\n",
       "      <td>2012-03-06 19:30:00.0000000</td>\n",
       "      <td>0.779</td>\n",
       "    </tr>\n",
       "    <tr>\n",
       "      <th>12</th>\n",
       "      <td>MAC000323</td>\n",
       "      <td>2012-03-06 20:00:00.0000000</td>\n",
       "      <td>0.862</td>\n",
       "    </tr>\n",
       "    <tr>\n",
       "      <th>13</th>\n",
       "      <td>MAC000323</td>\n",
       "      <td>2012-03-06 20:30:00.0000000</td>\n",
       "      <td>0.908</td>\n",
       "    </tr>\n",
       "    <tr>\n",
       "      <th>14</th>\n",
       "      <td>MAC000323</td>\n",
       "      <td>2012-03-06 21:00:00.0000000</td>\n",
       "      <td>0.8</td>\n",
       "    </tr>\n",
       "    <tr>\n",
       "      <th>15</th>\n",
       "      <td>MAC000323</td>\n",
       "      <td>2012-03-06 21:30:00.0000000</td>\n",
       "      <td>0.793</td>\n",
       "    </tr>\n",
       "    <tr>\n",
       "      <th>16</th>\n",
       "      <td>MAC000323</td>\n",
       "      <td>2012-03-06 22:00:00.0000000</td>\n",
       "      <td>0.888</td>\n",
       "    </tr>\n",
       "    <tr>\n",
       "      <th>17</th>\n",
       "      <td>MAC000323</td>\n",
       "      <td>2012-03-06 22:30:00.0000000</td>\n",
       "      <td>0.726</td>\n",
       "    </tr>\n",
       "    <tr>\n",
       "      <th>18</th>\n",
       "      <td>MAC000323</td>\n",
       "      <td>2012-03-06 23:00:00.0000000</td>\n",
       "      <td>0.604</td>\n",
       "    </tr>\n",
       "    <tr>\n",
       "      <th>19</th>\n",
       "      <td>MAC000323</td>\n",
       "      <td>2012-03-06 23:30:00.0000000</td>\n",
       "      <td>0.387</td>\n",
       "    </tr>\n",
       "    <tr>\n",
       "      <th>20</th>\n",
       "      <td>MAC000323</td>\n",
       "      <td>2012-03-07 00:00:00.0000000</td>\n",
       "      <td>0.15</td>\n",
       "    </tr>\n",
       "    <tr>\n",
       "      <th>21</th>\n",
       "      <td>MAC000323</td>\n",
       "      <td>2012-03-07 00:30:00.0000000</td>\n",
       "      <td>0.114</td>\n",
       "    </tr>\n",
       "    <tr>\n",
       "      <th>22</th>\n",
       "      <td>MAC000323</td>\n",
       "      <td>2012-03-07 01:00:00.0000000</td>\n",
       "      <td>0.054</td>\n",
       "    </tr>\n",
       "    <tr>\n",
       "      <th>23</th>\n",
       "      <td>MAC000323</td>\n",
       "      <td>2012-03-07 01:30:00.0000000</td>\n",
       "      <td>0.107</td>\n",
       "    </tr>\n",
       "    <tr>\n",
       "      <th>24</th>\n",
       "      <td>MAC000323</td>\n",
       "      <td>2012-03-07 02:00:00.0000000</td>\n",
       "      <td>0.107</td>\n",
       "    </tr>\n",
       "    <tr>\n",
       "      <th>25</th>\n",
       "      <td>MAC000323</td>\n",
       "      <td>2012-03-07 02:30:00.0000000</td>\n",
       "      <td>0.078</td>\n",
       "    </tr>\n",
       "    <tr>\n",
       "      <th>26</th>\n",
       "      <td>MAC000323</td>\n",
       "      <td>2012-03-07 03:00:00.0000000</td>\n",
       "      <td>0.082</td>\n",
       "    </tr>\n",
       "    <tr>\n",
       "      <th>27</th>\n",
       "      <td>MAC000323</td>\n",
       "      <td>2012-03-07 03:30:00.0000000</td>\n",
       "      <td>0.105</td>\n",
       "    </tr>\n",
       "    <tr>\n",
       "      <th>28</th>\n",
       "      <td>MAC000323</td>\n",
       "      <td>2012-03-07 04:00:00.0000000</td>\n",
       "      <td>0.099</td>\n",
       "    </tr>\n",
       "    <tr>\n",
       "      <th>29</th>\n",
       "      <td>MAC000323</td>\n",
       "      <td>2012-03-07 04:30:00.0000000</td>\n",
       "      <td>0.061</td>\n",
       "    </tr>\n",
       "    <tr>\n",
       "      <th>...</th>\n",
       "      <td>...</td>\n",
       "      <td>...</td>\n",
       "      <td>...</td>\n",
       "    </tr>\n",
       "    <tr>\n",
       "      <th>1515835</th>\n",
       "      <td>MAC004529</td>\n",
       "      <td>2014-02-27 09:30:00.0000000</td>\n",
       "      <td>0.082</td>\n",
       "    </tr>\n",
       "    <tr>\n",
       "      <th>1515836</th>\n",
       "      <td>MAC004529</td>\n",
       "      <td>2014-02-27 10:00:00.0000000</td>\n",
       "      <td>0.093</td>\n",
       "    </tr>\n",
       "    <tr>\n",
       "      <th>1515837</th>\n",
       "      <td>MAC004529</td>\n",
       "      <td>2014-02-27 10:30:00.0000000</td>\n",
       "      <td>0.313</td>\n",
       "    </tr>\n",
       "    <tr>\n",
       "      <th>1515838</th>\n",
       "      <td>MAC004529</td>\n",
       "      <td>2014-02-27 11:00:00.0000000</td>\n",
       "      <td>0.186</td>\n",
       "    </tr>\n",
       "    <tr>\n",
       "      <th>1515839</th>\n",
       "      <td>MAC004529</td>\n",
       "      <td>2014-02-27 11:30:00.0000000</td>\n",
       "      <td>0.056</td>\n",
       "    </tr>\n",
       "    <tr>\n",
       "      <th>1515840</th>\n",
       "      <td>MAC004529</td>\n",
       "      <td>2014-02-27 12:00:00.0000000</td>\n",
       "      <td>0.049</td>\n",
       "    </tr>\n",
       "    <tr>\n",
       "      <th>1515841</th>\n",
       "      <td>MAC004529</td>\n",
       "      <td>2014-02-27 12:30:00.0000000</td>\n",
       "      <td>0.053</td>\n",
       "    </tr>\n",
       "    <tr>\n",
       "      <th>1515842</th>\n",
       "      <td>MAC004529</td>\n",
       "      <td>2014-02-27 13:00:00.0000000</td>\n",
       "      <td>0.042</td>\n",
       "    </tr>\n",
       "    <tr>\n",
       "      <th>1515843</th>\n",
       "      <td>MAC004529</td>\n",
       "      <td>2014-02-27 13:30:00.0000000</td>\n",
       "      <td>0.074</td>\n",
       "    </tr>\n",
       "    <tr>\n",
       "      <th>1515844</th>\n",
       "      <td>MAC004529</td>\n",
       "      <td>2014-02-27 14:00:00.0000000</td>\n",
       "      <td>0.028</td>\n",
       "    </tr>\n",
       "    <tr>\n",
       "      <th>1515845</th>\n",
       "      <td>MAC004529</td>\n",
       "      <td>2014-02-27 14:30:00.0000000</td>\n",
       "      <td>0.077</td>\n",
       "    </tr>\n",
       "    <tr>\n",
       "      <th>1515846</th>\n",
       "      <td>MAC004529</td>\n",
       "      <td>2014-02-27 15:00:00.0000000</td>\n",
       "      <td>0.202</td>\n",
       "    </tr>\n",
       "    <tr>\n",
       "      <th>1515847</th>\n",
       "      <td>MAC004529</td>\n",
       "      <td>2014-02-27 15:30:00.0000000</td>\n",
       "      <td>0.303</td>\n",
       "    </tr>\n",
       "    <tr>\n",
       "      <th>1515848</th>\n",
       "      <td>MAC004529</td>\n",
       "      <td>2014-02-27 16:00:00.0000000</td>\n",
       "      <td>0.06</td>\n",
       "    </tr>\n",
       "    <tr>\n",
       "      <th>1515849</th>\n",
       "      <td>MAC004529</td>\n",
       "      <td>2014-02-27 16:30:00.0000000</td>\n",
       "      <td>0.06</td>\n",
       "    </tr>\n",
       "    <tr>\n",
       "      <th>1515850</th>\n",
       "      <td>MAC004529</td>\n",
       "      <td>2014-02-27 17:00:00.0000000</td>\n",
       "      <td>0.064</td>\n",
       "    </tr>\n",
       "    <tr>\n",
       "      <th>1515851</th>\n",
       "      <td>MAC004529</td>\n",
       "      <td>2014-02-27 17:30:00.0000000</td>\n",
       "      <td>0.025</td>\n",
       "    </tr>\n",
       "    <tr>\n",
       "      <th>1515852</th>\n",
       "      <td>MAC004529</td>\n",
       "      <td>2014-02-27 18:00:00.0000000</td>\n",
       "      <td>0.036</td>\n",
       "    </tr>\n",
       "    <tr>\n",
       "      <th>1515853</th>\n",
       "      <td>MAC004529</td>\n",
       "      <td>2014-02-27 18:30:00.0000000</td>\n",
       "      <td>0.161</td>\n",
       "    </tr>\n",
       "    <tr>\n",
       "      <th>1515854</th>\n",
       "      <td>MAC004529</td>\n",
       "      <td>2014-02-27 19:00:00.0000000</td>\n",
       "      <td>0.135</td>\n",
       "    </tr>\n",
       "    <tr>\n",
       "      <th>1515855</th>\n",
       "      <td>MAC004529</td>\n",
       "      <td>2014-02-27 19:30:00.0000000</td>\n",
       "      <td>0.859</td>\n",
       "    </tr>\n",
       "    <tr>\n",
       "      <th>1515856</th>\n",
       "      <td>MAC004529</td>\n",
       "      <td>2014-02-27 20:00:00.0000000</td>\n",
       "      <td>0.665</td>\n",
       "    </tr>\n",
       "    <tr>\n",
       "      <th>1515857</th>\n",
       "      <td>MAC004529</td>\n",
       "      <td>2014-02-27 20:30:00.0000000</td>\n",
       "      <td>0.236</td>\n",
       "    </tr>\n",
       "    <tr>\n",
       "      <th>1515858</th>\n",
       "      <td>MAC004529</td>\n",
       "      <td>2014-02-27 21:00:00.0000000</td>\n",
       "      <td>0.232</td>\n",
       "    </tr>\n",
       "    <tr>\n",
       "      <th>1515859</th>\n",
       "      <td>MAC004529</td>\n",
       "      <td>2014-02-27 21:30:00.0000000</td>\n",
       "      <td>0.386</td>\n",
       "    </tr>\n",
       "    <tr>\n",
       "      <th>1515860</th>\n",
       "      <td>MAC004529</td>\n",
       "      <td>2014-02-27 22:00:00.0000000</td>\n",
       "      <td>0.213</td>\n",
       "    </tr>\n",
       "    <tr>\n",
       "      <th>1515861</th>\n",
       "      <td>MAC004529</td>\n",
       "      <td>2014-02-27 22:30:00.0000000</td>\n",
       "      <td>0.227</td>\n",
       "    </tr>\n",
       "    <tr>\n",
       "      <th>1515862</th>\n",
       "      <td>MAC004529</td>\n",
       "      <td>2014-02-27 23:00:00.0000000</td>\n",
       "      <td>0.229</td>\n",
       "    </tr>\n",
       "    <tr>\n",
       "      <th>1515863</th>\n",
       "      <td>MAC004529</td>\n",
       "      <td>2014-02-27 23:30:00.0000000</td>\n",
       "      <td>0.22</td>\n",
       "    </tr>\n",
       "    <tr>\n",
       "      <th>1515864</th>\n",
       "      <td>MAC004529</td>\n",
       "      <td>2014-02-28 00:00:00.0000000</td>\n",
       "      <td>0.239</td>\n",
       "    </tr>\n",
       "  </tbody>\n",
       "</table>\n",
       "<p>1515865 rows × 3 columns</p>\n",
       "</div>"
      ],
      "text/plain": [
       "             LCLid                         tstp energy(kWh/hh)\n",
       "0        MAC000323  2012-03-06 14:00:00.0000000         0.488 \n",
       "1        MAC000323  2012-03-06 14:30:00.0000000         0.449 \n",
       "2        MAC000323  2012-03-06 15:00:00.0000000         0.424 \n",
       "3        MAC000323  2012-03-06 15:30:00.0000000         0.439 \n",
       "4        MAC000323  2012-03-06 16:00:00.0000000         0.291 \n",
       "...            ...                          ...            ...\n",
       "1515860  MAC004529  2014-02-27 22:00:00.0000000         0.213 \n",
       "1515861  MAC004529  2014-02-27 22:30:00.0000000         0.227 \n",
       "1515862  MAC004529  2014-02-27 23:00:00.0000000         0.229 \n",
       "1515863  MAC004529  2014-02-27 23:30:00.0000000          0.22 \n",
       "1515864  MAC004529  2014-02-28 00:00:00.0000000         0.239 \n",
       "\n",
       "[1515865 rows x 3 columns]"
      ]
     },
     "execution_count": 38,
     "metadata": {},
     "output_type": "execute_result"
    }
   ],
   "source": [
    "df.dropna()"
   ]
  },
  {
   "cell_type": "code",
   "execution_count": 122,
   "metadata": {},
   "outputs": [
    {
     "data": {
      "text/plain": [
       "array(['MAC000323', 0, 'MAC000379', 'MAC000386', 'MAC000535', 'MAC000557',\n",
       "       'MAC000569', 'MAC000713', 'MAC000768', 'MAC000778', 'MAC000816',\n",
       "       'MAC000850', 'MAC000886', 'MAC000902', 'MAC000948', 'MAC000974',\n",
       "       'MAC001145', 'MAC001239', 'MAC001251', 'MAC001271', 'MAC001510',\n",
       "       'MAC001528', 'MAC001533', 'MAC001628', 'MAC001689', 'MAC001710',\n",
       "       'MAC001734', 'MAC001776', 'MAC001843', 'MAC001893', 'MAC001989',\n",
       "       'MAC002025', 'MAC002068', 'MAC002150', 'MAC002249', 'MAC002314',\n",
       "       'MAC002562', 'MAC002563', 'MAC002601', 'MAC002613', 'MAC002628',\n",
       "       'MAC002813', 'MAC002924', 'MAC002937', 'MAC003072', 'MAC003110',\n",
       "       'MAC003166', 'MAC003182', 'MAC003212', 'MAC003840', 'MAC004529'],\n",
       "      dtype=object)"
      ]
     },
     "execution_count": 122,
     "metadata": {},
     "output_type": "execute_result"
    }
   ],
   "source": [
    "df['LCLid'].unique()"
   ]
  },
  {
   "cell_type": "code",
   "execution_count": 41,
   "metadata": {},
   "outputs": [
    {
     "data": {
      "text/plain": [
       "LCLid             50\n",
       "tstp              50\n",
       "energy(kWh/hh)    50\n",
       "dtype: int64"
      ]
     },
     "execution_count": 41,
     "metadata": {},
     "output_type": "execute_result"
    }
   ],
   "source": [
    "df.replace('Null', 0)\n",
    "df.loc[df['energy(kWh/hh)'] == 'Null'].count()"
   ]
  },
  {
   "cell_type": "code",
   "execution_count": 43,
   "metadata": {},
   "outputs": [],
   "source": [
    "df[df['energy(kWh/hh)'] == 'Null'] = 0"
   ]
  },
  {
   "cell_type": "code",
   "execution_count": 47,
   "metadata": {},
   "outputs": [
    {
     "data": {
      "text/html": [
       "<div>\n",
       "<style scoped>\n",
       "    .dataframe tbody tr th:only-of-type {\n",
       "        vertical-align: middle;\n",
       "    }\n",
       "\n",
       "    .dataframe tbody tr th {\n",
       "        vertical-align: top;\n",
       "    }\n",
       "\n",
       "    .dataframe thead th {\n",
       "        text-align: right;\n",
       "    }\n",
       "</style>\n",
       "<table border=\"1\" class=\"dataframe\">\n",
       "  <thead>\n",
       "    <tr style=\"text-align: right;\">\n",
       "      <th></th>\n",
       "      <th>LCLid</th>\n",
       "      <th>tstp</th>\n",
       "      <th>energy(kWh/hh)</th>\n",
       "    </tr>\n",
       "  </thead>\n",
       "  <tbody>\n",
       "  </tbody>\n",
       "</table>\n",
       "</div>"
      ],
      "text/plain": [
       "Empty DataFrame\n",
       "Columns: [LCLid, tstp, energy(kWh/hh)]\n",
       "Index: []"
      ]
     },
     "execution_count": 47,
     "metadata": {},
     "output_type": "execute_result"
    }
   ],
   "source": []
  },
  {
   "cell_type": "code",
   "execution_count": 18,
   "metadata": {},
   "outputs": [
    {
     "data": {
      "text/plain": [
       "array(['MAC000323', 'MAC000379', 'MAC000386', 'MAC000535', 'MAC000557',\n",
       "       'MAC000569', 'MAC000713', 'MAC000768', 'MAC000778', 'MAC000816',\n",
       "       'MAC000850', 'MAC000886', 'MAC000902', 'MAC000948', 'MAC000974',\n",
       "       'MAC001145', 'MAC001239', 'MAC001251', 'MAC001271', 'MAC001510',\n",
       "       'MAC001528', 'MAC001533', 'MAC001628', 'MAC001689', 'MAC001710',\n",
       "       'MAC001734', 'MAC001776', 'MAC001843', 'MAC001893', 'MAC001989',\n",
       "       'MAC002025', 'MAC002068', 'MAC002150', 'MAC002249', 'MAC002314',\n",
       "       'MAC002562', 'MAC002563', 'MAC002601', 'MAC002613', 'MAC002628',\n",
       "       'MAC002813', 'MAC002924', 'MAC002937', 'MAC003072', 'MAC003110',\n",
       "       'MAC003166', 'MAC003182', 'MAC003212', 'MAC003840', 'MAC004529'],\n",
       "      dtype=object)"
      ]
     },
     "execution_count": 18,
     "metadata": {},
     "output_type": "execute_result"
    }
   ],
   "source": [
    "df['LCLid'].unique()"
   ]
  },
  {
   "cell_type": "code",
   "execution_count": 68,
   "metadata": {},
   "outputs": [],
   "source": [
    "m1 = df.loc[df['LCLid'] == 'MAC000323']"
   ]
  },
  {
   "cell_type": "code",
   "execution_count": 50,
   "metadata": {},
   "outputs": [
    {
     "data": {
      "text/html": [
       "<div>\n",
       "<style scoped>\n",
       "    .dataframe tbody tr th:only-of-type {\n",
       "        vertical-align: middle;\n",
       "    }\n",
       "\n",
       "    .dataframe tbody tr th {\n",
       "        vertical-align: top;\n",
       "    }\n",
       "\n",
       "    .dataframe thead th {\n",
       "        text-align: right;\n",
       "    }\n",
       "</style>\n",
       "<table border=\"1\" class=\"dataframe\">\n",
       "  <thead>\n",
       "    <tr style=\"text-align: right;\">\n",
       "      <th></th>\n",
       "      <th>LCLid</th>\n",
       "      <th>tstp</th>\n",
       "      <th>energy(kWh/hh)</th>\n",
       "    </tr>\n",
       "  </thead>\n",
       "  <tbody>\n",
       "    <tr>\n",
       "      <th>0</th>\n",
       "      <td>MAC000323</td>\n",
       "      <td>2012-03-06 14:00:00.0000000</td>\n",
       "      <td>0.488</td>\n",
       "    </tr>\n",
       "    <tr>\n",
       "      <th>1</th>\n",
       "      <td>MAC000323</td>\n",
       "      <td>2012-03-06 14:30:00.0000000</td>\n",
       "      <td>0.449</td>\n",
       "    </tr>\n",
       "    <tr>\n",
       "      <th>2</th>\n",
       "      <td>MAC000323</td>\n",
       "      <td>2012-03-06 15:00:00.0000000</td>\n",
       "      <td>0.424</td>\n",
       "    </tr>\n",
       "    <tr>\n",
       "      <th>3</th>\n",
       "      <td>MAC000323</td>\n",
       "      <td>2012-03-06 15:30:00.0000000</td>\n",
       "      <td>0.439</td>\n",
       "    </tr>\n",
       "    <tr>\n",
       "      <th>4</th>\n",
       "      <td>MAC000323</td>\n",
       "      <td>2012-03-06 16:00:00.0000000</td>\n",
       "      <td>0.291</td>\n",
       "    </tr>\n",
       "    <tr>\n",
       "      <th>5</th>\n",
       "      <td>MAC000323</td>\n",
       "      <td>2012-03-06 16:30:00.0000000</td>\n",
       "      <td>0.262</td>\n",
       "    </tr>\n",
       "    <tr>\n",
       "      <th>6</th>\n",
       "      <td>MAC000323</td>\n",
       "      <td>2012-03-06 17:00:00.0000000</td>\n",
       "      <td>0.308</td>\n",
       "    </tr>\n",
       "    <tr>\n",
       "      <th>7</th>\n",
       "      <td>MAC000323</td>\n",
       "      <td>2012-03-06 17:30:00.0000000</td>\n",
       "      <td>0.138</td>\n",
       "    </tr>\n",
       "    <tr>\n",
       "      <th>8</th>\n",
       "      <td>MAC000323</td>\n",
       "      <td>2012-03-06 18:00:00.0000000</td>\n",
       "      <td>0.404</td>\n",
       "    </tr>\n",
       "    <tr>\n",
       "      <th>9</th>\n",
       "      <td>MAC000323</td>\n",
       "      <td>2012-03-06 18:30:00.0000000</td>\n",
       "      <td>0.714</td>\n",
       "    </tr>\n",
       "    <tr>\n",
       "      <th>10</th>\n",
       "      <td>MAC000323</td>\n",
       "      <td>2012-03-06 19:00:00.0000000</td>\n",
       "      <td>0.69</td>\n",
       "    </tr>\n",
       "    <tr>\n",
       "      <th>11</th>\n",
       "      <td>MAC000323</td>\n",
       "      <td>2012-03-06 19:30:00.0000000</td>\n",
       "      <td>0.779</td>\n",
       "    </tr>\n",
       "    <tr>\n",
       "      <th>12</th>\n",
       "      <td>MAC000323</td>\n",
       "      <td>2012-03-06 20:00:00.0000000</td>\n",
       "      <td>0.862</td>\n",
       "    </tr>\n",
       "    <tr>\n",
       "      <th>13</th>\n",
       "      <td>MAC000323</td>\n",
       "      <td>2012-03-06 20:30:00.0000000</td>\n",
       "      <td>0.908</td>\n",
       "    </tr>\n",
       "    <tr>\n",
       "      <th>14</th>\n",
       "      <td>MAC000323</td>\n",
       "      <td>2012-03-06 21:00:00.0000000</td>\n",
       "      <td>0.8</td>\n",
       "    </tr>\n",
       "    <tr>\n",
       "      <th>15</th>\n",
       "      <td>MAC000323</td>\n",
       "      <td>2012-03-06 21:30:00.0000000</td>\n",
       "      <td>0.793</td>\n",
       "    </tr>\n",
       "    <tr>\n",
       "      <th>16</th>\n",
       "      <td>MAC000323</td>\n",
       "      <td>2012-03-06 22:00:00.0000000</td>\n",
       "      <td>0.888</td>\n",
       "    </tr>\n",
       "    <tr>\n",
       "      <th>17</th>\n",
       "      <td>MAC000323</td>\n",
       "      <td>2012-03-06 22:30:00.0000000</td>\n",
       "      <td>0.726</td>\n",
       "    </tr>\n",
       "    <tr>\n",
       "      <th>18</th>\n",
       "      <td>MAC000323</td>\n",
       "      <td>2012-03-06 23:00:00.0000000</td>\n",
       "      <td>0.604</td>\n",
       "    </tr>\n",
       "    <tr>\n",
       "      <th>19</th>\n",
       "      <td>MAC000323</td>\n",
       "      <td>2012-03-06 23:30:00.0000000</td>\n",
       "      <td>0.387</td>\n",
       "    </tr>\n",
       "    <tr>\n",
       "      <th>20</th>\n",
       "      <td>MAC000323</td>\n",
       "      <td>2012-03-07 00:00:00.0000000</td>\n",
       "      <td>0.15</td>\n",
       "    </tr>\n",
       "    <tr>\n",
       "      <th>21</th>\n",
       "      <td>MAC000323</td>\n",
       "      <td>2012-03-07 00:30:00.0000000</td>\n",
       "      <td>0.114</td>\n",
       "    </tr>\n",
       "    <tr>\n",
       "      <th>22</th>\n",
       "      <td>MAC000323</td>\n",
       "      <td>2012-03-07 01:00:00.0000000</td>\n",
       "      <td>0.054</td>\n",
       "    </tr>\n",
       "    <tr>\n",
       "      <th>23</th>\n",
       "      <td>MAC000323</td>\n",
       "      <td>2012-03-07 01:30:00.0000000</td>\n",
       "      <td>0.107</td>\n",
       "    </tr>\n",
       "    <tr>\n",
       "      <th>24</th>\n",
       "      <td>MAC000323</td>\n",
       "      <td>2012-03-07 02:00:00.0000000</td>\n",
       "      <td>0.107</td>\n",
       "    </tr>\n",
       "    <tr>\n",
       "      <th>25</th>\n",
       "      <td>MAC000323</td>\n",
       "      <td>2012-03-07 02:30:00.0000000</td>\n",
       "      <td>0.078</td>\n",
       "    </tr>\n",
       "    <tr>\n",
       "      <th>26</th>\n",
       "      <td>MAC000323</td>\n",
       "      <td>2012-03-07 03:00:00.0000000</td>\n",
       "      <td>0.082</td>\n",
       "    </tr>\n",
       "    <tr>\n",
       "      <th>27</th>\n",
       "      <td>MAC000323</td>\n",
       "      <td>2012-03-07 03:30:00.0000000</td>\n",
       "      <td>0.105</td>\n",
       "    </tr>\n",
       "    <tr>\n",
       "      <th>28</th>\n",
       "      <td>MAC000323</td>\n",
       "      <td>2012-03-07 04:00:00.0000000</td>\n",
       "      <td>0.099</td>\n",
       "    </tr>\n",
       "    <tr>\n",
       "      <th>29</th>\n",
       "      <td>MAC000323</td>\n",
       "      <td>2012-03-07 04:30:00.0000000</td>\n",
       "      <td>0.061</td>\n",
       "    </tr>\n",
       "    <tr>\n",
       "      <th>...</th>\n",
       "      <td>...</td>\n",
       "      <td>...</td>\n",
       "      <td>...</td>\n",
       "    </tr>\n",
       "    <tr>\n",
       "      <th>34695</th>\n",
       "      <td>MAC000323</td>\n",
       "      <td>2014-02-27 09:30:00.0000000</td>\n",
       "      <td>0.134</td>\n",
       "    </tr>\n",
       "    <tr>\n",
       "      <th>34696</th>\n",
       "      <td>MAC000323</td>\n",
       "      <td>2014-02-27 10:00:00.0000000</td>\n",
       "      <td>0.118</td>\n",
       "    </tr>\n",
       "    <tr>\n",
       "      <th>34697</th>\n",
       "      <td>MAC000323</td>\n",
       "      <td>2014-02-27 10:30:00.0000000</td>\n",
       "      <td>0.08</td>\n",
       "    </tr>\n",
       "    <tr>\n",
       "      <th>34698</th>\n",
       "      <td>MAC000323</td>\n",
       "      <td>2014-02-27 11:00:00.0000000</td>\n",
       "      <td>0.068</td>\n",
       "    </tr>\n",
       "    <tr>\n",
       "      <th>34699</th>\n",
       "      <td>MAC000323</td>\n",
       "      <td>2014-02-27 11:30:00.0000000</td>\n",
       "      <td>0.301</td>\n",
       "    </tr>\n",
       "    <tr>\n",
       "      <th>34700</th>\n",
       "      <td>MAC000323</td>\n",
       "      <td>2014-02-27 12:00:00.0000000</td>\n",
       "      <td>0.262</td>\n",
       "    </tr>\n",
       "    <tr>\n",
       "      <th>34701</th>\n",
       "      <td>MAC000323</td>\n",
       "      <td>2014-02-27 12:30:00.0000000</td>\n",
       "      <td>0.255</td>\n",
       "    </tr>\n",
       "    <tr>\n",
       "      <th>34702</th>\n",
       "      <td>MAC000323</td>\n",
       "      <td>2014-02-27 13:00:00.0000000</td>\n",
       "      <td>0.421</td>\n",
       "    </tr>\n",
       "    <tr>\n",
       "      <th>34703</th>\n",
       "      <td>MAC000323</td>\n",
       "      <td>2014-02-27 13:30:00.0000000</td>\n",
       "      <td>0.326</td>\n",
       "    </tr>\n",
       "    <tr>\n",
       "      <th>34704</th>\n",
       "      <td>MAC000323</td>\n",
       "      <td>2014-02-27 14:00:00.0000000</td>\n",
       "      <td>0.259</td>\n",
       "    </tr>\n",
       "    <tr>\n",
       "      <th>34705</th>\n",
       "      <td>MAC000323</td>\n",
       "      <td>2014-02-27 14:30:00.0000000</td>\n",
       "      <td>0.223</td>\n",
       "    </tr>\n",
       "    <tr>\n",
       "      <th>34706</th>\n",
       "      <td>MAC000323</td>\n",
       "      <td>2014-02-27 15:00:00.0000000</td>\n",
       "      <td>0.08</td>\n",
       "    </tr>\n",
       "    <tr>\n",
       "      <th>34707</th>\n",
       "      <td>MAC000323</td>\n",
       "      <td>2014-02-27 15:30:00.0000000</td>\n",
       "      <td>0.067</td>\n",
       "    </tr>\n",
       "    <tr>\n",
       "      <th>34708</th>\n",
       "      <td>MAC000323</td>\n",
       "      <td>2014-02-27 16:00:00.0000000</td>\n",
       "      <td>0.066</td>\n",
       "    </tr>\n",
       "    <tr>\n",
       "      <th>34709</th>\n",
       "      <td>MAC000323</td>\n",
       "      <td>2014-02-27 16:30:00.0000000</td>\n",
       "      <td>0.101</td>\n",
       "    </tr>\n",
       "    <tr>\n",
       "      <th>34710</th>\n",
       "      <td>MAC000323</td>\n",
       "      <td>2014-02-27 17:00:00.0000000</td>\n",
       "      <td>0.098</td>\n",
       "    </tr>\n",
       "    <tr>\n",
       "      <th>34711</th>\n",
       "      <td>MAC000323</td>\n",
       "      <td>2014-02-27 17:30:00.0000000</td>\n",
       "      <td>0.195</td>\n",
       "    </tr>\n",
       "    <tr>\n",
       "      <th>34712</th>\n",
       "      <td>MAC000323</td>\n",
       "      <td>2014-02-27 18:00:00.0000000</td>\n",
       "      <td>0.37</td>\n",
       "    </tr>\n",
       "    <tr>\n",
       "      <th>34713</th>\n",
       "      <td>MAC000323</td>\n",
       "      <td>2014-02-27 18:30:00.0000000</td>\n",
       "      <td>0.106</td>\n",
       "    </tr>\n",
       "    <tr>\n",
       "      <th>34714</th>\n",
       "      <td>MAC000323</td>\n",
       "      <td>2014-02-27 19:00:00.0000000</td>\n",
       "      <td>0.228</td>\n",
       "    </tr>\n",
       "    <tr>\n",
       "      <th>34715</th>\n",
       "      <td>MAC000323</td>\n",
       "      <td>2014-02-27 19:30:00.0000000</td>\n",
       "      <td>0.613</td>\n",
       "    </tr>\n",
       "    <tr>\n",
       "      <th>34716</th>\n",
       "      <td>MAC000323</td>\n",
       "      <td>2014-02-27 20:00:00.0000000</td>\n",
       "      <td>0.355</td>\n",
       "    </tr>\n",
       "    <tr>\n",
       "      <th>34717</th>\n",
       "      <td>MAC000323</td>\n",
       "      <td>2014-02-27 20:30:00.0000000</td>\n",
       "      <td>0.435</td>\n",
       "    </tr>\n",
       "    <tr>\n",
       "      <th>34718</th>\n",
       "      <td>MAC000323</td>\n",
       "      <td>2014-02-27 21:00:00.0000000</td>\n",
       "      <td>0.403</td>\n",
       "    </tr>\n",
       "    <tr>\n",
       "      <th>34719</th>\n",
       "      <td>MAC000323</td>\n",
       "      <td>2014-02-27 21:30:00.0000000</td>\n",
       "      <td>0.386</td>\n",
       "    </tr>\n",
       "    <tr>\n",
       "      <th>34720</th>\n",
       "      <td>MAC000323</td>\n",
       "      <td>2014-02-27 22:00:00.0000000</td>\n",
       "      <td>0.365</td>\n",
       "    </tr>\n",
       "    <tr>\n",
       "      <th>34721</th>\n",
       "      <td>MAC000323</td>\n",
       "      <td>2014-02-27 22:30:00.0000000</td>\n",
       "      <td>0.773</td>\n",
       "    </tr>\n",
       "    <tr>\n",
       "      <th>34722</th>\n",
       "      <td>MAC000323</td>\n",
       "      <td>2014-02-27 23:00:00.0000000</td>\n",
       "      <td>0.872</td>\n",
       "    </tr>\n",
       "    <tr>\n",
       "      <th>34723</th>\n",
       "      <td>MAC000323</td>\n",
       "      <td>2014-02-27 23:30:00.0000000</td>\n",
       "      <td>0.789</td>\n",
       "    </tr>\n",
       "    <tr>\n",
       "      <th>34724</th>\n",
       "      <td>MAC000323</td>\n",
       "      <td>2014-02-28 00:00:00.0000000</td>\n",
       "      <td>0.334</td>\n",
       "    </tr>\n",
       "  </tbody>\n",
       "</table>\n",
       "<p>34724 rows × 3 columns</p>\n",
       "</div>"
      ],
      "text/plain": [
       "           LCLid                         tstp energy(kWh/hh)\n",
       "0      MAC000323  2012-03-06 14:00:00.0000000         0.488 \n",
       "1      MAC000323  2012-03-06 14:30:00.0000000         0.449 \n",
       "2      MAC000323  2012-03-06 15:00:00.0000000         0.424 \n",
       "3      MAC000323  2012-03-06 15:30:00.0000000         0.439 \n",
       "4      MAC000323  2012-03-06 16:00:00.0000000         0.291 \n",
       "...          ...                          ...            ...\n",
       "34720  MAC000323  2014-02-27 22:00:00.0000000         0.365 \n",
       "34721  MAC000323  2014-02-27 22:30:00.0000000         0.773 \n",
       "34722  MAC000323  2014-02-27 23:00:00.0000000         0.872 \n",
       "34723  MAC000323  2014-02-27 23:30:00.0000000         0.789 \n",
       "34724  MAC000323  2014-02-28 00:00:00.0000000         0.334 \n",
       "\n",
       "[34724 rows x 3 columns]"
      ]
     },
     "execution_count": 50,
     "metadata": {},
     "output_type": "execute_result"
    }
   ],
   "source": [
    "m1"
   ]
  },
  {
   "cell_type": "code",
   "execution_count": 51,
   "metadata": {},
   "outputs": [
    {
     "data": {
      "text/plain": [
       "' 3.3269999 '"
      ]
     },
     "execution_count": 51,
     "metadata": {},
     "output_type": "execute_result"
    }
   ],
   "source": [
    "m1['energy(kWh/hh)'].max()"
   ]
  },
  {
   "cell_type": "code",
   "execution_count": 53,
   "metadata": {},
   "outputs": [
    {
     "data": {
      "text/plain": [
       "' 0.037 '"
      ]
     },
     "execution_count": 53,
     "metadata": {},
     "output_type": "execute_result"
    }
   ],
   "source": [
    "m1['energy(kWh/hh)'].min()"
   ]
  },
  {
   "cell_type": "code",
   "execution_count": 57,
   "metadata": {},
   "outputs": [
    {
     "data": {
      "text/plain": [
       "(34724, 3)"
      ]
     },
     "execution_count": 57,
     "metadata": {},
     "output_type": "execute_result"
    }
   ],
   "source": [
    "m1.shape"
   ]
  },
  {
   "cell_type": "code",
   "execution_count": 71,
   "metadata": {},
   "outputs": [],
   "source": [
    "m1_2012 = m1.loc[m1['tstp'] < '2013']"
   ]
  },
  {
   "cell_type": "code",
   "execution_count": 70,
   "metadata": {},
   "outputs": [],
   "source": [
    "%matplotlib inline "
   ]
  },
  {
   "cell_type": "code",
   "execution_count": 81,
   "metadata": {},
   "outputs": [
    {
     "data": {
      "text/plain": [
       "0        0.488\n",
       "1        0.449\n",
       "2        0.424\n",
       "3        0.439\n",
       "4        0.291\n",
       "         ...  \n",
       "14415    0.432\n",
       "14416    0.452\n",
       "14417    0.418\n",
       "14418    0.377\n",
       "14419    0.374\n",
       "Name: energy(kWh/hh), Length: 14419, dtype: float64"
      ]
     },
     "execution_count": 81,
     "metadata": {},
     "output_type": "execute_result"
    }
   ],
   "source": [
    "m1_2012['energy(kWh/hh)'].astype(float)"
   ]
  },
  {
   "cell_type": "code",
   "execution_count": 83,
   "metadata": {},
   "outputs": [
    {
     "name": "stdout",
     "output_type": "stream",
     "text": [
      "<class 'pandas.core.frame.DataFrame'>\n",
      "Int64Index: 14419 entries, 0 to 14419\n",
      "Data columns (total 3 columns):\n",
      "LCLid             14419 non-null object\n",
      "tstp              14419 non-null datetime64[ns]\n",
      "energy(kWh/hh)    14419 non-null object\n",
      "dtypes: datetime64[ns](1), object(2)\n",
      "memory usage: 450.6+ KB\n"
     ]
    }
   ],
   "source": [
    "m1_2012.info()"
   ]
  },
  {
   "cell_type": "code",
   "execution_count": 85,
   "metadata": {},
   "outputs": [
    {
     "name": "stderr",
     "output_type": "stream",
     "text": [
      "C:\\Users\\ian\\AppData\\Roaming\\Python\\Python37\\site-packages\\ipykernel_launcher.py:1: SettingWithCopyWarning: \n",
      "A value is trying to be set on a copy of a slice from a DataFrame.\n",
      "Try using .loc[row_indexer,col_indexer] = value instead\n",
      "\n",
      "See the caveats in the documentation: http://pandas.pydata.org/pandas-docs/stable/user_guide/indexing.html#returning-a-view-versus-a-copy\n",
      "  \"\"\"Entry point for launching an IPython kernel.\n"
     ]
    }
   ],
   "source": [
    "m1_2012['energy(kWh/hh)'] = pd.to_numeric(m1_2012['energy(kWh/hh)'], errors = 'ignore')"
   ]
  },
  {
   "cell_type": "code",
   "execution_count": 86,
   "metadata": {},
   "outputs": [
    {
     "name": "stdout",
     "output_type": "stream",
     "text": [
      "<class 'pandas.core.frame.DataFrame'>\n",
      "Int64Index: 14419 entries, 0 to 14419\n",
      "Data columns (total 3 columns):\n",
      "LCLid             14419 non-null object\n",
      "tstp              14419 non-null datetime64[ns]\n",
      "energy(kWh/hh)    14419 non-null float64\n",
      "dtypes: datetime64[ns](1), float64(1), object(1)\n",
      "memory usage: 450.6+ KB\n"
     ]
    }
   ],
   "source": [
    "m1_2012.info()"
   ]
  },
  {
   "cell_type": "code",
   "execution_count": 87,
   "metadata": {},
   "outputs": [
    {
     "data": {
      "text/plain": [
       "<matplotlib.axes._subplots.AxesSubplot at 0x19726027978>"
      ]
     },
     "execution_count": 87,
     "metadata": {},
     "output_type": "execute_result"
    },
    {
     "data": {
      "image/png": "[encoded data removed]",
      "text/plain": [
       "<Figure size 432x288 with 1 Axes>"
      ]
     },
     "metadata": {
      "needs_background": "light"
     },
     "output_type": "display_data"
    }
   ],
   "source": [
    "m1_2012['energy(kWh/hh)'].plot()"
   ]
  },
  {
   "cell_type": "code",
   "execution_count": 99,
   "metadata": {},
   "outputs": [],
   "source": [
    "df2 = pd.read_csv('halfhourly_dataset/block_2.csv')"
   ]
  },
  {
   "cell_type": "code",
   "execution_count": 100,
   "metadata": {},
   "outputs": [],
   "source": [
    "df2['tstp']=pd.to_datetime(df2['tstp'])"
   ]
  },
  {
   "cell_type": "markdown",
   "metadata": {},
   "source": []
  },
  {
   "cell_type": "code",
   "execution_count": 102,
   "metadata": {},
   "outputs": [
    {
     "data": {
      "text/html": [
       "<div>\n",
       "<style scoped>\n",
       "    .dataframe tbody tr th:only-of-type {\n",
       "        vertical-align: middle;\n",
       "    }\n",
       "\n",
       "    .dataframe tbody tr th {\n",
       "        vertical-align: top;\n",
       "    }\n",
       "\n",
       "    .dataframe thead th {\n",
       "        text-align: right;\n",
       "    }\n",
       "</style>\n",
       "<table border=\"1\" class=\"dataframe\">\n",
       "  <thead>\n",
       "    <tr style=\"text-align: right;\">\n",
       "      <th></th>\n",
       "      <th>LCLid</th>\n",
       "      <th>tstp</th>\n",
       "      <th>energy(kWh/hh)</th>\n",
       "    </tr>\n",
       "  </thead>\n",
       "  <tbody>\n",
       "    <tr>\n",
       "      <th>0</th>\n",
       "      <td>MAC000030</td>\n",
       "      <td>2011-12-07 11:30:00</td>\n",
       "      <td>0.398</td>\n",
       "    </tr>\n",
       "    <tr>\n",
       "      <th>1</th>\n",
       "      <td>MAC000030</td>\n",
       "      <td>2011-12-07 12:00:00</td>\n",
       "      <td>0.578</td>\n",
       "    </tr>\n",
       "    <tr>\n",
       "      <th>2</th>\n",
       "      <td>MAC000030</td>\n",
       "      <td>2011-12-07 12:30:00</td>\n",
       "      <td>0.049</td>\n",
       "    </tr>\n",
       "    <tr>\n",
       "      <th>3</th>\n",
       "      <td>MAC000030</td>\n",
       "      <td>2011-12-07 13:00:00</td>\n",
       "      <td>0.081</td>\n",
       "    </tr>\n",
       "    <tr>\n",
       "      <th>4</th>\n",
       "      <td>MAC000030</td>\n",
       "      <td>2011-12-07 13:30:00</td>\n",
       "      <td>0.094</td>\n",
       "    </tr>\n",
       "  </tbody>\n",
       "</table>\n",
       "</div>"
      ],
      "text/plain": [
       "       LCLid                tstp energy(kWh/hh)\n",
       "0  MAC000030 2011-12-07 11:30:00         0.398 \n",
       "1  MAC000030 2011-12-07 12:00:00         0.578 \n",
       "2  MAC000030 2011-12-07 12:30:00         0.049 \n",
       "3  MAC000030 2011-12-07 13:00:00         0.081 \n",
       "4  MAC000030 2011-12-07 13:30:00         0.094 "
      ]
     },
     "execution_count": 102,
     "metadata": {},
     "output_type": "execute_result"
    }
   ],
   "source": [
    "df2.head()"
   ]
  },
  {
   "cell_type": "code",
   "execution_count": 108,
   "metadata": {},
   "outputs": [],
   "source": [
    "df2.loc[df2['energy(kWh/hh)']=='Null'] = 0"
   ]
  },
  {
   "cell_type": "code",
   "execution_count": 109,
   "metadata": {},
   "outputs": [],
   "source": [
    "df2['energy(kWh/hh)'] = pd.to_numeric(df2['energy(kWh/hh)'], errors = 'ignore')"
   ]
  },
  {
   "cell_type": "code",
   "execution_count": 104,
   "metadata": {},
   "outputs": [
    {
     "data": {
      "text/plain": [
       "'Null'"
      ]
     },
     "execution_count": 104,
     "metadata": {},
     "output_type": "execute_result"
    }
   ],
   "source": [
    "df2['energy(kWh/hh)'].max()"
   ]
  },
  {
   "cell_type": "code",
   "execution_count": 110,
   "metadata": {},
   "outputs": [
    {
     "name": "stdout",
     "output_type": "stream",
     "text": [
      "<class 'pandas.core.frame.DataFrame'>\n",
      "RangeIndex: 1488465 entries, 0 to 1488464\n",
      "Data columns (total 3 columns):\n",
      "LCLid             1488465 non-null object\n",
      "tstp              1488465 non-null object\n",
      "energy(kWh/hh)    1488465 non-null float64\n",
      "dtypes: float64(1), object(2)\n",
      "memory usage: 34.1+ MB\n"
     ]
    }
   ],
   "source": [
    "df2.info()"
   ]
  },
  {
   "cell_type": "code",
   "execution_count": 111,
   "metadata": {},
   "outputs": [
    {
     "data": {
      "text/plain": [
       "9.140999800000001"
      ]
     },
     "execution_count": 111,
     "metadata": {},
     "output_type": "execute_result"
    }
   ],
   "source": [
    "df2['energy(kWh/hh)'].max()"
   ]
  },
  {
   "cell_type": "code",
   "execution_count": 112,
   "metadata": {},
   "outputs": [
    {
     "data": {
      "text/plain": [
       "<matplotlib.axes._subplots.AxesSubplot at 0x1973ccef080>"
      ]
     },
     "execution_count": 112,
     "metadata": {},
     "output_type": "execute_result"
    },
    {
     "data": {
      "image/png": "[encoded data removed]",
      "text/plain": [
       "<Figure size 432x288 with 1 Axes>"
      ]
     },
     "metadata": {
      "needs_background": "light"
     },
     "output_type": "display_data"
    }
   ],
   "source": [
    "df2['energy(kWh/hh)'].plot()"
   ]
  },
  {
   "cell_type": "code",
   "execution_count": 115,
   "metadata": {},
   "outputs": [],
   "source": [
    "df2.rename(columns = {'energy(kWh/hh)':'E'}, inplace = True)"
   ]
  },
  {
   "cell_type": "code",
   "execution_count": 116,
   "metadata": {},
   "outputs": [
    {
     "data": {
      "text/html": [
       "<div>\n",
       "<style scoped>\n",
       "    .dataframe tbody tr th:only-of-type {\n",
       "        vertical-align: middle;\n",
       "    }\n",
       "\n",
       "    .dataframe tbody tr th {\n",
       "        vertical-align: top;\n",
       "    }\n",
       "\n",
       "    .dataframe thead th {\n",
       "        text-align: right;\n",
       "    }\n",
       "</style>\n",
       "<table border=\"1\" class=\"dataframe\">\n",
       "  <thead>\n",
       "    <tr style=\"text-align: right;\">\n",
       "      <th></th>\n",
       "      <th>LCLid</th>\n",
       "      <th>tstp</th>\n",
       "      <th>E</th>\n",
       "    </tr>\n",
       "  </thead>\n",
       "  <tbody>\n",
       "    <tr>\n",
       "      <th>0</th>\n",
       "      <td>MAC000030</td>\n",
       "      <td>2011-12-07 11:30:00</td>\n",
       "      <td>0.398</td>\n",
       "    </tr>\n",
       "    <tr>\n",
       "      <th>1</th>\n",
       "      <td>MAC000030</td>\n",
       "      <td>2011-12-07 12:00:00</td>\n",
       "      <td>0.578</td>\n",
       "    </tr>\n",
       "    <tr>\n",
       "      <th>2</th>\n",
       "      <td>MAC000030</td>\n",
       "      <td>2011-12-07 12:30:00</td>\n",
       "      <td>0.049</td>\n",
       "    </tr>\n",
       "    <tr>\n",
       "      <th>3</th>\n",
       "      <td>MAC000030</td>\n",
       "      <td>2011-12-07 13:00:00</td>\n",
       "      <td>0.081</td>\n",
       "    </tr>\n",
       "    <tr>\n",
       "      <th>4</th>\n",
       "      <td>MAC000030</td>\n",
       "      <td>2011-12-07 13:30:00</td>\n",
       "      <td>0.094</td>\n",
       "    </tr>\n",
       "  </tbody>\n",
       "</table>\n",
       "</div>"
      ],
      "text/plain": [
       "       LCLid                 tstp      E\n",
       "0  MAC000030  2011-12-07 11:30:00  0.398\n",
       "1  MAC000030  2011-12-07 12:00:00  0.578\n",
       "2  MAC000030  2011-12-07 12:30:00  0.049\n",
       "3  MAC000030  2011-12-07 13:00:00  0.081\n",
       "4  MAC000030  2011-12-07 13:30:00  0.094"
      ]
     },
     "execution_count": 116,
     "metadata": {},
     "output_type": "execute_result"
    }
   ],
   "source": [
    "df2.head()"
   ]
  },
  {
   "cell_type": "code",
   "execution_count": 117,
   "metadata": {},
   "outputs": [
    {
     "data": {
      "text/plain": [
       "array(['MAC000030', 0, 'MAC000040', 'MAC000103', 'MAC000110', 'MAC000112',\n",
       "       'MAC000339', 'MAC000464', 'MAC000487', 'MAC000593', 'MAC000609',\n",
       "       'MAC000797', 'MAC001653', 'MAC001736', 'MAC001819', 'MAC001836',\n",
       "       'MAC002113', 'MAC002134', 'MAC002199', 'MAC002260', 'MAC002552',\n",
       "       'MAC002959', 'MAC003196', 'MAC003257', 'MAC003286', 'MAC003474',\n",
       "       'MAC003536', 'MAC003606', 'MAC003634', 'MAC003683', 'MAC003807',\n",
       "       'MAC003895', 'MAC004054', 'MAC004258', 'MAC004374', 'MAC004436',\n",
       "       'MAC004554', 'MAC004713', 'MAC004789', 'MAC004872', 'MAC004900',\n",
       "       'MAC004988', 'MAC004997', 'MAC005042', 'MAC005062', 'MAC005160',\n",
       "       'MAC005283', 'MAC005406', 'MAC005421', 'MAC005468', 'MAC005523'],\n",
       "      dtype=object)"
      ]
     },
     "execution_count": 117,
     "metadata": {},
     "output_type": "execute_result"
    }
   ],
   "source": [
    "df2['LCLid'].unique()"
   ]
  },
  {
   "cell_type": "code",
   "execution_count": 124,
   "metadata": {},
   "outputs": [
    {
     "data": {
      "text/html": [
       "<div>\n",
       "<style scoped>\n",
       "    .dataframe tbody tr th:only-of-type {\n",
       "        vertical-align: middle;\n",
       "    }\n",
       "\n",
       "    .dataframe tbody tr th {\n",
       "        vertical-align: top;\n",
       "    }\n",
       "\n",
       "    .dataframe thead th {\n",
       "        text-align: right;\n",
       "    }\n",
       "</style>\n",
       "<table border=\"1\" class=\"dataframe\">\n",
       "  <thead>\n",
       "    <tr style=\"text-align: right;\">\n",
       "      <th></th>\n",
       "      <th>LCLid</th>\n",
       "      <th>tstp</th>\n",
       "      <th>E</th>\n",
       "    </tr>\n",
       "  </thead>\n",
       "  <tbody>\n",
       "    <tr>\n",
       "      <th>18103</th>\n",
       "      <td>0</td>\n",
       "      <td>0</td>\n",
       "      <td>0.0</td>\n",
       "    </tr>\n",
       "    <tr>\n",
       "      <th>57097</th>\n",
       "      <td>0</td>\n",
       "      <td>0</td>\n",
       "      <td>0.0</td>\n",
       "    </tr>\n",
       "    <tr>\n",
       "      <th>95864</th>\n",
       "      <td>0</td>\n",
       "      <td>0</td>\n",
       "      <td>0.0</td>\n",
       "    </tr>\n",
       "    <tr>\n",
       "      <th>130008</th>\n",
       "      <td>0</td>\n",
       "      <td>0</td>\n",
       "      <td>0.0</td>\n",
       "    </tr>\n",
       "    <tr>\n",
       "      <th>168719</th>\n",
       "      <td>0</td>\n",
       "      <td>0</td>\n",
       "      <td>0.0</td>\n",
       "    </tr>\n",
       "    <tr>\n",
       "      <th>203355</th>\n",
       "      <td>0</td>\n",
       "      <td>0</td>\n",
       "      <td>0.0</td>\n",
       "    </tr>\n",
       "    <tr>\n",
       "      <th>237214</th>\n",
       "      <td>0</td>\n",
       "      <td>0</td>\n",
       "      <td>0.0</td>\n",
       "    </tr>\n",
       "    <tr>\n",
       "      <th>271116</th>\n",
       "      <td>0</td>\n",
       "      <td>0</td>\n",
       "      <td>0.0</td>\n",
       "    </tr>\n",
       "    <tr>\n",
       "      <th>303974</th>\n",
       "      <td>0</td>\n",
       "      <td>0</td>\n",
       "      <td>0.0</td>\n",
       "    </tr>\n",
       "    <tr>\n",
       "      <th>336929</th>\n",
       "      <td>0</td>\n",
       "      <td>0</td>\n",
       "      <td>0.0</td>\n",
       "    </tr>\n",
       "    <tr>\n",
       "      <th>369214</th>\n",
       "      <td>0</td>\n",
       "      <td>0</td>\n",
       "      <td>0.0</td>\n",
       "    </tr>\n",
       "    <tr>\n",
       "      <th>389262</th>\n",
       "      <td>0</td>\n",
       "      <td>0</td>\n",
       "      <td>0.0</td>\n",
       "    </tr>\n",
       "    <tr>\n",
       "      <th>402785</th>\n",
       "      <td>0</td>\n",
       "      <td>0</td>\n",
       "      <td>0.0</td>\n",
       "    </tr>\n",
       "    <tr>\n",
       "      <th>429072</th>\n",
       "      <td>0</td>\n",
       "      <td>0</td>\n",
       "      <td>0.0</td>\n",
       "    </tr>\n",
       "    <tr>\n",
       "      <th>459286</th>\n",
       "      <td>0</td>\n",
       "      <td>0</td>\n",
       "      <td>0.0</td>\n",
       "    </tr>\n",
       "    <tr>\n",
       "      <th>489005</th>\n",
       "      <td>0</td>\n",
       "      <td>0</td>\n",
       "      <td>0.0</td>\n",
       "    </tr>\n",
       "    <tr>\n",
       "      <th>518735</th>\n",
       "      <td>0</td>\n",
       "      <td>0</td>\n",
       "      <td>0.0</td>\n",
       "    </tr>\n",
       "    <tr>\n",
       "      <th>548142</th>\n",
       "      <td>0</td>\n",
       "      <td>0</td>\n",
       "      <td>0.0</td>\n",
       "    </tr>\n",
       "    <tr>\n",
       "      <th>579731</th>\n",
       "      <td>0</td>\n",
       "      <td>0</td>\n",
       "      <td>0.0</td>\n",
       "    </tr>\n",
       "    <tr>\n",
       "      <th>601299</th>\n",
       "      <td>0</td>\n",
       "      <td>0</td>\n",
       "      <td>0.0</td>\n",
       "    </tr>\n",
       "    <tr>\n",
       "      <th>630240</th>\n",
       "      <td>0</td>\n",
       "      <td>0</td>\n",
       "      <td>0.0</td>\n",
       "    </tr>\n",
       "    <tr>\n",
       "      <th>655753</th>\n",
       "      <td>0</td>\n",
       "      <td>0</td>\n",
       "      <td>0.0</td>\n",
       "    </tr>\n",
       "    <tr>\n",
       "      <th>670615</th>\n",
       "      <td>0</td>\n",
       "      <td>0</td>\n",
       "      <td>0.0</td>\n",
       "    </tr>\n",
       "    <tr>\n",
       "      <th>695778</th>\n",
       "      <td>0</td>\n",
       "      <td>0</td>\n",
       "      <td>0.0</td>\n",
       "    </tr>\n",
       "    <tr>\n",
       "      <th>720184</th>\n",
       "      <td>0</td>\n",
       "      <td>0</td>\n",
       "      <td>0.0</td>\n",
       "    </tr>\n",
       "    <tr>\n",
       "      <th>744550</th>\n",
       "      <td>0</td>\n",
       "      <td>0</td>\n",
       "      <td>0.0</td>\n",
       "    </tr>\n",
       "    <tr>\n",
       "      <th>768726</th>\n",
       "      <td>0</td>\n",
       "      <td>0</td>\n",
       "      <td>0.0</td>\n",
       "    </tr>\n",
       "    <tr>\n",
       "      <th>792901</th>\n",
       "      <td>0</td>\n",
       "      <td>0</td>\n",
       "      <td>0.0</td>\n",
       "    </tr>\n",
       "    <tr>\n",
       "      <th>816882</th>\n",
       "      <td>0</td>\n",
       "      <td>0</td>\n",
       "      <td>0.0</td>\n",
       "    </tr>\n",
       "    <tr>\n",
       "      <th>835915</th>\n",
       "      <td>0</td>\n",
       "      <td>0</td>\n",
       "      <td>0.0</td>\n",
       "    </tr>\n",
       "    <tr>\n",
       "      <th>859409</th>\n",
       "      <td>0</td>\n",
       "      <td>0</td>\n",
       "      <td>0.0</td>\n",
       "    </tr>\n",
       "    <tr>\n",
       "      <th>887831</th>\n",
       "      <td>0</td>\n",
       "      <td>0</td>\n",
       "      <td>0.0</td>\n",
       "    </tr>\n",
       "    <tr>\n",
       "      <th>918770</th>\n",
       "      <td>0</td>\n",
       "      <td>0</td>\n",
       "      <td>0.0</td>\n",
       "    </tr>\n",
       "    <tr>\n",
       "      <th>952924</th>\n",
       "      <td>0</td>\n",
       "      <td>0</td>\n",
       "      <td>0.0</td>\n",
       "    </tr>\n",
       "    <tr>\n",
       "      <th>986977</th>\n",
       "      <td>0</td>\n",
       "      <td>0</td>\n",
       "      <td>0.0</td>\n",
       "    </tr>\n",
       "    <tr>\n",
       "      <th>1025305</th>\n",
       "      <td>0</td>\n",
       "      <td>0</td>\n",
       "      <td>0.0</td>\n",
       "    </tr>\n",
       "    <tr>\n",
       "      <th>1053789</th>\n",
       "      <td>0</td>\n",
       "      <td>0</td>\n",
       "      <td>0.0</td>\n",
       "    </tr>\n",
       "    <tr>\n",
       "      <th>1086985</th>\n",
       "      <td>0</td>\n",
       "      <td>0</td>\n",
       "      <td>0.0</td>\n",
       "    </tr>\n",
       "    <tr>\n",
       "      <th>1124736</th>\n",
       "      <td>0</td>\n",
       "      <td>0</td>\n",
       "      <td>0.0</td>\n",
       "    </tr>\n",
       "    <tr>\n",
       "      <th>1161856</th>\n",
       "      <td>0</td>\n",
       "      <td>0</td>\n",
       "      <td>0.0</td>\n",
       "    </tr>\n",
       "    <tr>\n",
       "      <th>1198494</th>\n",
       "      <td>0</td>\n",
       "      <td>0</td>\n",
       "      <td>0.0</td>\n",
       "    </tr>\n",
       "    <tr>\n",
       "      <th>1235093</th>\n",
       "      <td>0</td>\n",
       "      <td>0</td>\n",
       "      <td>0.0</td>\n",
       "    </tr>\n",
       "    <tr>\n",
       "      <th>1255758</th>\n",
       "      <td>0</td>\n",
       "      <td>0</td>\n",
       "      <td>0.0</td>\n",
       "    </tr>\n",
       "    <tr>\n",
       "      <th>1286424</th>\n",
       "      <td>0</td>\n",
       "      <td>0</td>\n",
       "      <td>0.0</td>\n",
       "    </tr>\n",
       "    <tr>\n",
       "      <th>1296077</th>\n",
       "      <td>0</td>\n",
       "      <td>0</td>\n",
       "      <td>0.0</td>\n",
       "    </tr>\n",
       "    <tr>\n",
       "      <th>1331993</th>\n",
       "      <td>0</td>\n",
       "      <td>0</td>\n",
       "      <td>0.0</td>\n",
       "    </tr>\n",
       "    <tr>\n",
       "      <th>1367091</th>\n",
       "      <td>0</td>\n",
       "      <td>0</td>\n",
       "      <td>0.0</td>\n",
       "    </tr>\n",
       "    <tr>\n",
       "      <th>1402105</th>\n",
       "      <td>0</td>\n",
       "      <td>0</td>\n",
       "      <td>0.0</td>\n",
       "    </tr>\n",
       "    <tr>\n",
       "      <th>1434856</th>\n",
       "      <td>0</td>\n",
       "      <td>0</td>\n",
       "      <td>0.0</td>\n",
       "    </tr>\n",
       "    <tr>\n",
       "      <th>1467521</th>\n",
       "      <td>0</td>\n",
       "      <td>0</td>\n",
       "      <td>0.0</td>\n",
       "    </tr>\n",
       "  </tbody>\n",
       "</table>\n",
       "</div>"
      ],
      "text/plain": [
       "        LCLid tstp    E\n",
       "18103       0    0  0.0\n",
       "57097       0    0  0.0\n",
       "95864       0    0  0.0\n",
       "130008      0    0  0.0\n",
       "168719      0    0  0.0\n",
       "203355      0    0  0.0\n",
       "237214      0    0  0.0\n",
       "271116      0    0  0.0\n",
       "303974      0    0  0.0\n",
       "336929      0    0  0.0\n",
       "369214      0    0  0.0\n",
       "389262      0    0  0.0\n",
       "402785      0    0  0.0\n",
       "429072      0    0  0.0\n",
       "459286      0    0  0.0\n",
       "489005      0    0  0.0\n",
       "518735      0    0  0.0\n",
       "548142      0    0  0.0\n",
       "579731      0    0  0.0\n",
       "601299      0    0  0.0\n",
       "630240      0    0  0.0\n",
       "655753      0    0  0.0\n",
       "670615      0    0  0.0\n",
       "695778      0    0  0.0\n",
       "720184      0    0  0.0\n",
       "744550      0    0  0.0\n",
       "768726      0    0  0.0\n",
       "792901      0    0  0.0\n",
       "816882      0    0  0.0\n",
       "835915      0    0  0.0\n",
       "859409      0    0  0.0\n",
       "887831      0    0  0.0\n",
       "918770      0    0  0.0\n",
       "952924      0    0  0.0\n",
       "986977      0    0  0.0\n",
       "1025305     0    0  0.0\n",
       "1053789     0    0  0.0\n",
       "1086985     0    0  0.0\n",
       "1124736     0    0  0.0\n",
       "1161856     0    0  0.0\n",
       "1198494     0    0  0.0\n",
       "1235093     0    0  0.0\n",
       "1255758     0    0  0.0\n",
       "1286424     0    0  0.0\n",
       "1296077     0    0  0.0\n",
       "1331993     0    0  0.0\n",
       "1367091     0    0  0.0\n",
       "1402105     0    0  0.0\n",
       "1434856     0    0  0.0\n",
       "1467521     0    0  0.0"
      ]
     },
     "execution_count": 124,
     "metadata": {},
     "output_type": "execute_result"
    }
   ],
   "source": [
    "df2.loc[df2['LCLid'] == 0]"
   ]
  },
  {
   "cell_type": "code",
   "execution_count": 130,
   "metadata": {},
   "outputs": [
    {
     "data": {
      "text/plain": [
       "LCLid              MAC005421\n",
       "tstp     2012-12-18 15:30:00\n",
       "E                      0.527\n",
       "Name: 1402106, dtype: object"
      ]
     },
     "execution_count": 130,
     "metadata": {},
     "output_type": "execute_result"
    }
   ],
   "source": [
    "df2.iloc[1402106,:]"
   ]
  },
  {
   "cell_type": "code",
   "execution_count": 9,
   "metadata": {},
   "outputs": [],
   "source": [
    "data = pd.DataFrame(columns = ['LCLid', 'tstp', 'energy(kWh/hh)'])"
   ]
  },
  {
   "cell_type": "code",
   "execution_count": 10,
   "metadata": {},
   "outputs": [],
   "source": [
    "for x in range(0, 3):\n",
    "    frame = pd.read_csv('halfhourly_dataset/block_%s.csv' %str(x))\n",
    "    frame['block'] = x\n",
    "    data = data.append(frame, ignore_index = True)\n",
    "\n"
   ]
  },
  {
   "cell_type": "markdown",
   "metadata": {},
   "source": [
    "elem"
   ]
  },
  {
   "cell_type": "code",
   "execution_count": 47,
   "metadata": {},
   "outputs": [
    {
     "name": "stdout",
     "output_type": "stream",
     "text": [
      "<class 'pandas.core.frame.DataFrame'>\n",
      "RangeIndex: 8454000 entries, 0 to 8453999\n",
      "Data columns (total 4 columns):\n",
      "LCLid             object\n",
      "block             float64\n",
      "energy(kWh/hh)    float64\n",
      "tstp              datetime64[ns]\n",
      "dtypes: datetime64[ns](1), float64(2), object(1)\n",
      "memory usage: 258.0+ MB\n"
     ]
    }
   ],
   "source": [
    "data.info()"
   ]
  },
  {
   "cell_type": "code",
   "execution_count": 11,
   "metadata": {},
   "outputs": [
    {
     "data": {
      "text/plain": [
       "<matplotlib.axes._subplots.AxesSubplot at 0x20b088e8f60>"
      ]
     },
     "execution_count": 11,
     "metadata": {},
     "output_type": "execute_result"
    },
    {
     "data": {
      "image/png": "[encoded data removed]",
      "text/plain": [
       "<Figure size 432x288 with 1 Axes>"
      ]
     },
     "metadata": {
      "needs_background": "light"
     },
     "output_type": "display_data"
    }
   ],
   "source": [
    "data['block'].plot()"
   ]
  },
  {
   "cell_type": "code",
   "execution_count": 9,
   "metadata": {},
   "outputs": [
    {
     "data": {
      "text/plain": [
       "array(['MAC000002', 'MAC000246', 'MAC000450', 'MAC001074', 'MAC003223',\n",
       "       'MAC003239', 'MAC003252', 'MAC003281', 'MAC003305', 'MAC003348',\n",
       "       'MAC003388', 'MAC003394', 'MAC003400', 'MAC003422', 'MAC003423',\n",
       "       'MAC003428', 'MAC003449', 'MAC003463', 'MAC003482', 'MAC003553',\n",
       "       'MAC003557', 'MAC003566', 'MAC003579', 'MAC003597', 'MAC003613',\n",
       "       'MAC003646', 'MAC003656', 'MAC003668', 'MAC003680', 'MAC003686',\n",
       "       'MAC003718', 'MAC003719', 'MAC003737', 'MAC003740', 'MAC003775',\n",
       "       'MAC003805', 'MAC003817', 'MAC003826', 'MAC003844', 'MAC003851',\n",
       "       'MAC003856', 'MAC003863', 'MAC003874', 'MAC004034', 'MAC004179',\n",
       "       'MAC004247', 'MAC004319', 'MAC004387', 'MAC004431', 'MAC005492',\n",
       "       'MAC000323', 'MAC000379', 'MAC000386', 'MAC000535', 'MAC000557',\n",
       "       'MAC000569', 'MAC000713', 'MAC000768', 'MAC000778', 'MAC000816',\n",
       "       'MAC000850', 'MAC000886', 'MAC000902', 'MAC000948', 'MAC000974',\n",
       "       'MAC001145', 'MAC001239', 'MAC001251', 'MAC001271', 'MAC001510',\n",
       "       'MAC001528', 'MAC001533', 'MAC001628', 'MAC001689', 'MAC001710',\n",
       "       'MAC001734', 'MAC001776', 'MAC001843', 'MAC001893', 'MAC001989',\n",
       "       'MAC002025', 'MAC002068', 'MAC002150', 'MAC002249', 'MAC002314',\n",
       "       'MAC002562', 'MAC002563', 'MAC002601', 'MAC002613', 'MAC002628',\n",
       "       'MAC002813', 'MAC002924', 'MAC002937', 'MAC003072', 'MAC003110',\n",
       "       'MAC003166', 'MAC003182', 'MAC003212', 'MAC003840', 'MAC004529',\n",
       "       'MAC000030', 'MAC000040', 'MAC000103', 'MAC000110', 'MAC000112',\n",
       "       'MAC000339', 'MAC000464', 'MAC000487', 'MAC000593', 'MAC000609',\n",
       "       'MAC000797', 'MAC001653', 'MAC001736', 'MAC001819', 'MAC001836',\n",
       "       'MAC002113', 'MAC002134', 'MAC002199', 'MAC002260', 'MAC002552',\n",
       "       'MAC002959', 'MAC003196', 'MAC003257', 'MAC003286', 'MAC003474',\n",
       "       'MAC003536', 'MAC003606', 'MAC003634', 'MAC003683', 'MAC003807',\n",
       "       'MAC003895', 'MAC004054', 'MAC004258', 'MAC004374', 'MAC004436',\n",
       "       'MAC004554', 'MAC004713', 'MAC004789', 'MAC004872', 'MAC004900',\n",
       "       'MAC004988', 'MAC004997', 'MAC005042', 'MAC005062', 'MAC005160',\n",
       "       'MAC005283', 'MAC005406', 'MAC005421', 'MAC005468', 'MAC005523'],\n",
       "      dtype=object)"
      ]
     },
     "execution_count": 9,
     "metadata": {},
     "output_type": "execute_result"
    }
   ],
   "source": [
    "data['LCLid'].unique()"
   ]
  },
  {
   "cell_type": "code",
   "execution_count": 206,
   "metadata": {},
   "outputs": [
    {
     "data": {
      "text/plain": [
       "(16908000, 4)"
      ]
     },
     "execution_count": 206,
     "metadata": {},
     "output_type": "execute_result"
    }
   ],
   "source": [
    "data.shape"
   ]
  },
  {
   "cell_type": "code",
   "execution_count": 16,
   "metadata": {},
   "outputs": [],
   "source": [
    "data['tstp'] = pd.to_datetime(data['tstp'])"
   ]
  },
  {
   "cell_type": "code",
   "execution_count": 21,
   "metadata": {},
   "outputs": [
    {
     "data": {
      "text/plain": [
       "LCLid             300\n",
       "block             300\n",
       "energy(kWh/hh)    300\n",
       "tstp              300\n",
       "dtype: int64"
      ]
     },
     "execution_count": 21,
     "metadata": {},
     "output_type": "execute_result"
    }
   ],
   "source": [
    "data.loc[data['energy(kWh/hh)']=='Null'].count()"
   ]
  },
  {
   "cell_type": "code",
   "execution_count": 12,
   "metadata": {},
   "outputs": [],
   "source": [
    "data.replace('Null', 0, inplace = True)\n"
   ]
  },
  {
   "cell_type": "code",
   "execution_count": 26,
   "metadata": {},
   "outputs": [
    {
     "data": {
      "text/plain": [
       "LCLid             0\n",
       "block             0\n",
       "energy(kWh/hh)    0\n",
       "tstp              0\n",
       "dtype: int64"
      ]
     },
     "execution_count": 26,
     "metadata": {},
     "output_type": "execute_result"
    }
   ],
   "source": [
    "data.loc[data['energy(kWh/hh)']=='Null'].count()"
   ]
  },
  {
   "cell_type": "code",
   "execution_count": 13,
   "metadata": {},
   "outputs": [],
   "source": [
    "data['energy(kWh/hh)'] = pd.to_numeric(data['energy(kWh/hh)'], errors = 'ignore')"
   ]
  },
  {
   "cell_type": "code",
   "execution_count": 42,
   "metadata": {},
   "outputs": [
    {
     "data": {
      "text/plain": [
       "<matplotlib.axes._subplots.AxesSubplot at 0x1cd88807fd0>"
      ]
     },
     "execution_count": 42,
     "metadata": {},
     "output_type": "execute_result"
    },
    {
     "data": {
      "image/png": "[encoded data removed]",
      "text/plain": [
       "<Figure size 432x288 with 1 Axes>"
      ]
     },
     "metadata": {
      "needs_background": "light"
     },
     "output_type": "display_data"
    }
   ],
   "source": [
    "data['energy(kWh/hh)'].plot()"
   ]
  },
  {
   "cell_type": "code",
   "execution_count": 14,
   "metadata": {},
   "outputs": [],
   "source": [
    "block_2 = data.loc[data['block'] == 2]"
   ]
  },
  {
   "cell_type": "code",
   "execution_count": 31,
   "metadata": {},
   "outputs": [
    {
     "data": {
      "text/plain": [
       "9.140999800000001"
      ]
     },
     "execution_count": 31,
     "metadata": {},
     "output_type": "execute_result"
    }
   ],
   "source": [
    "block_2['energy(kWh/hh)'].max()"
   ]
  },
  {
   "cell_type": "code",
   "execution_count": 15,
   "metadata": {},
   "outputs": [
    {
     "data": {
      "text/plain": [
       "<matplotlib.axes._subplots.AxesSubplot at 0x20b64381518>"
      ]
     },
     "execution_count": 15,
     "metadata": {},
     "output_type": "execute_result"
    },
    {
     "data": {
      "image/png": "[encoded data removed]",
      "text/plain": [
       "<Figure size 432x288 with 1 Axes>"
      ]
     },
     "metadata": {
      "needs_background": "light"
     },
     "output_type": "display_data"
    }
   ],
   "source": [
    "block_2['energy(kWh/hh)'].plot()"
   ]
  },
  {
   "cell_type": "code",
   "execution_count": 22,
   "metadata": {},
   "outputs": [],
   "source": [
    "y12 = data.loc[(data['tstp']>= '2012') & (data['tstp']>'2013')]"
   ]
  },
  {
   "cell_type": "code",
   "execution_count": 23,
   "metadata": {},
   "outputs": [
    {
     "data": {
      "text/plain": [
       "array(['MAC000002', 'MAC000246', 'MAC000450', 'MAC003223', 'MAC003239',\n",
       "       'MAC003252', 'MAC003281', 'MAC003305', 'MAC003348', 'MAC003388',\n",
       "       'MAC003394', 'MAC003400', 'MAC003422', 'MAC003423', 'MAC003428',\n",
       "       'MAC003449', 'MAC003463', 'MAC003482', 'MAC003553', 'MAC003557',\n",
       "       'MAC003566', 'MAC003579', 'MAC003597', 'MAC003613', 'MAC003646',\n",
       "       'MAC003656', 'MAC003668', 'MAC003680', 'MAC003686', 'MAC003718',\n",
       "       'MAC003719', 'MAC003737', 'MAC003740', 'MAC003775', 'MAC003805',\n",
       "       'MAC003817', 'MAC003826', 'MAC003844', 'MAC003851', 'MAC003856',\n",
       "       'MAC003863', 'MAC003874', 'MAC004034', 'MAC004179', 'MAC004247',\n",
       "       'MAC004319', 'MAC004387', 'MAC004431', 'MAC005492', 'MAC000323',\n",
       "       'MAC000379', 'MAC000386', 'MAC000535', 'MAC000557', 'MAC000569',\n",
       "       'MAC000713', 'MAC000768', 'MAC000778', 'MAC000816', 'MAC000850',\n",
       "       'MAC000886', 'MAC000902', 'MAC000948', 'MAC000974', 'MAC001145',\n",
       "       'MAC001239', 'MAC001251', 'MAC001271', 'MAC001510', 'MAC001528',\n",
       "       'MAC001533', 'MAC001628', 'MAC001689', 'MAC001710', 'MAC001734',\n",
       "       'MAC001776', 'MAC001843', 'MAC001893', 'MAC001989', 'MAC002025',\n",
       "       'MAC002068', 'MAC002150', 'MAC002249', 'MAC002314', 'MAC002562',\n",
       "       'MAC002563', 'MAC002601', 'MAC002613', 'MAC002628', 'MAC002813',\n",
       "       'MAC002924', 'MAC002937', 'MAC003072', 'MAC003110', 'MAC003166',\n",
       "       'MAC003182', 'MAC003212', 'MAC003840', 'MAC004529', 'MAC000030',\n",
       "       'MAC000040', 'MAC000103', 'MAC000110', 'MAC000112', 'MAC000339',\n",
       "       'MAC000464', 'MAC000487', 'MAC000593', 'MAC000609', 'MAC000797',\n",
       "       'MAC001653', 'MAC001736', 'MAC001819', 'MAC001836', 'MAC002113',\n",
       "       'MAC002134', 'MAC002199', 'MAC002260', 'MAC002552', 'MAC002959',\n",
       "       'MAC003196', 'MAC003257', 'MAC003286', 'MAC003474', 'MAC003536',\n",
       "       'MAC003606', 'MAC003634', 'MAC003683', 'MAC003807', 'MAC003895',\n",
       "       'MAC004054', 'MAC004258', 'MAC004374', 'MAC004436', 'MAC004554',\n",
       "       'MAC004713', 'MAC004789', 'MAC004872', 'MAC004900', 'MAC004988',\n",
       "       'MAC004997', 'MAC005042', 'MAC005160', 'MAC005283', 'MAC005406',\n",
       "       'MAC005421', 'MAC005468', 'MAC005523'], dtype=object)"
      ]
     },
     "execution_count": 23,
     "metadata": {},
     "output_type": "execute_result"
    }
   ],
   "source": [
    "y12['LCLid'].unique()"
   ]
  },
  {
   "cell_type": "code",
   "execution_count": null,
   "metadata": {},
   "outputs": [],
   "source": []
  }
 ],
 "metadata": {
  "kernelspec": {
   "display_name": "Python 3",
   "language": "python",
   "name": "python3"
  },
  "language_info": {
   "codemirror_mode": {
    "name": "ipython",
    "version": 3
   },
   "file_extension": ".py",
   "mimetype": "text/x-python",
   "name": "python",
   "nbconvert_exporter": "python",
   "pygments_lexer": "ipython3",
   "version": "3.7.3"
  }
 },
 "nbformat": 4,
 "nbformat_minor": 2
}
